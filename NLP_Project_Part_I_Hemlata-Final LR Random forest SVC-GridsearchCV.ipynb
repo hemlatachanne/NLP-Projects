{
 "cells": [
  {
   "cell_type": "markdown",
   "metadata": {},
   "source": [
    "### Hemlata Channe\n",
    "#### NLP Project I Part I\n",
    "#### DOMAIN: Digital content management\n",
    "    • CONTEXT: Classification is probably the most popular task that you would deal with in real life. Text in the form of blogs, posts, articles,etc. is written every second. It is a challenge to predict the information about the writer without knowing about him/her. We are going to create a classi ier that predicts multiple features of the author of a given text. We have designed it as a Multi label classi ication problem.\n",
    "    • DATA DESCRIPTION: Over 600,000 posts from more than 19 thousand bloggers The Blog Authorship Corpus consists of the collected posts of 19,320 bloggers gathered from blogger.com in August 2004. The corpus incorporates a total of 681,288 posts and over 140 million words - or approximately 35 posts and 7250 words per person. Each blog is presented as a separate ile, the name of which indicates a blogger id# and the blogger’s self-provided gender, age, industry, and astrological sign. (All are labelled for gender and age but for many, industry and/or sign is marked as unknown.) All bloggers included in the corpus fall into one of three age groups:\n",
    "    • 8240 \"10s\" blogs (ages 13-17),\n",
    "    • 8086 \"20s\" blogs(ages 23-27) and\n",
    "    • 2994 \"30s\" blogs (ages 33-47)\n",
    "    For each age group, there is an equal number of male and female bloggers.\n",
    "    Each blog in the corpus includes at least 200 occurrences of common English words. All formatting has been stripped with two exceptions. Individual posts within a single blogger are separated by the date of the following post and links within a post are denoted by the label url link. Link to dataset: https://www.kaggle.com/rtatman/blog-authorship-corpus\n",
    "    • PROJECT OBJECTIVE: The need is to build a NLP classi ier which can use input text parameters to determine the label/s of the blog.\n",
    "    Steps and tasks:\n",
    "    1. Import and analyse the data set.\n",
    "    2. Perform data pre-processing on the data:\n",
    "    • Data cleansing by removing unwanted characters, spaces, stop words etc. Convert text to lowercase.\n",
    "    • Target/label merger and transformation\n",
    "    • Train and test split\n",
    "    • Vectorisation, etc.\n",
    "    3. Design, train, tune and test the best text classi ier.\n",
    "    4. Display and explain detail the classi ication report\n",
    "    5.Print the true vs predicted labels for any 5 entries from the dataset.\n",
    "    Hint: The aim here Is to import the text, process it such a way that it can be taken as an inout to the ML/NN classifiers. Be analytical and experimental here in trying new approaches to design the best model"
   ]
  },
  {
   "cell_type": "code",
   "execution_count": 276,
   "metadata": {},
   "outputs": [],
   "source": [
    "import numpy as np # linear algebra\n",
    "import pandas as pd # data processing, CSV file I/O (e.g. pd.read_csv)\n",
    "import matplotlib.pyplot as plt       # matplotlib.pyplot plots data\n",
    "%matplotlib inline \n",
    "import seaborn as sns\n",
    "import nltk\n",
    "from sklearn.model_selection import train_test_split\n",
    "from sklearn.naive_bayes import GaussianNB\n",
    "from sklearn.neighbors import KNeighborsClassifier\n",
    "from scipy.stats import zscore\n",
    "from sklearn import metrics\n",
    "from sklearn.linear_model import LogisticRegression\n",
    "from sklearn.metrics import accuracy_score,f1_score,precision_score\n",
    "from sklearn.metrics import average_precision_score,recall_score,classification_report\n",
    "from sklearn.naive_bayes import MultinomialNB\n",
    "from sklearn.svm import LinearSVC\n",
    "from sklearn.model_selection import KFold\n",
    "from sklearn.model_selection import GridSearchCV\n",
    "from sklearn.multiclass import OneVsRestClassifier\n",
    "import warnings\n",
    "warnings.filterwarnings('ignore')"
   ]
  },
  {
   "cell_type": "markdown",
   "metadata": {},
   "source": [
    "## Task 1: Import and analyse the data set. Loaded only 30000 rows from the entire dataset."
   ]
  },
  {
   "cell_type": "code",
   "execution_count": 277,
   "metadata": {},
   "outputs": [
    {
     "data": {
      "text/html": [
       "<div>\n",
       "<style scoped>\n",
       "    .dataframe tbody tr th:only-of-type {\n",
       "        vertical-align: middle;\n",
       "    }\n",
       "\n",
       "    .dataframe tbody tr th {\n",
       "        vertical-align: top;\n",
       "    }\n",
       "\n",
       "    .dataframe thead th {\n",
       "        text-align: right;\n",
       "    }\n",
       "</style>\n",
       "<table border=\"1\" class=\"dataframe\">\n",
       "  <thead>\n",
       "    <tr style=\"text-align: right;\">\n",
       "      <th></th>\n",
       "      <th>id</th>\n",
       "      <th>gender</th>\n",
       "      <th>age</th>\n",
       "      <th>topic</th>\n",
       "      <th>sign</th>\n",
       "      <th>date</th>\n",
       "      <th>text</th>\n",
       "    </tr>\n",
       "  </thead>\n",
       "  <tbody>\n",
       "    <tr>\n",
       "      <th>0</th>\n",
       "      <td>2059027</td>\n",
       "      <td>male</td>\n",
       "      <td>15</td>\n",
       "      <td>Student</td>\n",
       "      <td>Leo</td>\n",
       "      <td>14,May,2004</td>\n",
       "      <td>Info has been found (+/- 100 pages,...</td>\n",
       "    </tr>\n",
       "    <tr>\n",
       "      <th>1</th>\n",
       "      <td>2059027</td>\n",
       "      <td>male</td>\n",
       "      <td>15</td>\n",
       "      <td>Student</td>\n",
       "      <td>Leo</td>\n",
       "      <td>13,May,2004</td>\n",
       "      <td>These are the team members:   Drewe...</td>\n",
       "    </tr>\n",
       "    <tr>\n",
       "      <th>2</th>\n",
       "      <td>2059027</td>\n",
       "      <td>male</td>\n",
       "      <td>15</td>\n",
       "      <td>Student</td>\n",
       "      <td>Leo</td>\n",
       "      <td>12,May,2004</td>\n",
       "      <td>In het kader van kernfusie op aarde...</td>\n",
       "    </tr>\n",
       "    <tr>\n",
       "      <th>3</th>\n",
       "      <td>2059027</td>\n",
       "      <td>male</td>\n",
       "      <td>15</td>\n",
       "      <td>Student</td>\n",
       "      <td>Leo</td>\n",
       "      <td>12,May,2004</td>\n",
       "      <td>testing!!!  testing!!!</td>\n",
       "    </tr>\n",
       "    <tr>\n",
       "      <th>4</th>\n",
       "      <td>3581210</td>\n",
       "      <td>male</td>\n",
       "      <td>33</td>\n",
       "      <td>InvestmentBanking</td>\n",
       "      <td>Aquarius</td>\n",
       "      <td>11,June,2004</td>\n",
       "      <td>Thanks to Yahoo!'s Toolbar I can ...</td>\n",
       "    </tr>\n",
       "  </tbody>\n",
       "</table>\n",
       "</div>"
      ],
      "text/plain": [
       "        id gender  age              topic      sign          date  \\\n",
       "0  2059027   male   15            Student       Leo   14,May,2004   \n",
       "1  2059027   male   15            Student       Leo   13,May,2004   \n",
       "2  2059027   male   15            Student       Leo   12,May,2004   \n",
       "3  2059027   male   15            Student       Leo   12,May,2004   \n",
       "4  3581210   male   33  InvestmentBanking  Aquarius  11,June,2004   \n",
       "\n",
       "                                                text  \n",
       "0             Info has been found (+/- 100 pages,...  \n",
       "1             These are the team members:   Drewe...  \n",
       "2             In het kader van kernfusie op aarde...  \n",
       "3                   testing!!!  testing!!!            \n",
       "4               Thanks to Yahoo!'s Toolbar I can ...  "
      ]
     },
     "execution_count": 277,
     "metadata": {},
     "output_type": "execute_result"
    }
   ],
   "source": [
    "Data = pd.read_csv(\"blogtext.csv\",nrows = 10000)\n",
    "Data.head()"
   ]
  },
  {
   "cell_type": "code",
   "execution_count": 278,
   "metadata": {},
   "outputs": [
    {
     "data": {
      "text/plain": [
       "Index(['id', 'gender', 'age', 'topic', 'sign', 'date', 'text'], dtype='object')"
      ]
     },
     "execution_count": 278,
     "metadata": {},
     "output_type": "execute_result"
    }
   ],
   "source": [
    "Data.columns"
   ]
  },
  {
   "cell_type": "code",
   "execution_count": 279,
   "metadata": {},
   "outputs": [
    {
     "data": {
      "text/plain": [
       "id         int64\n",
       "gender    object\n",
       "age        int64\n",
       "topic     object\n",
       "sign      object\n",
       "date      object\n",
       "text      object\n",
       "dtype: object"
      ]
     },
     "execution_count": 279,
     "metadata": {},
     "output_type": "execute_result"
    }
   ],
   "source": [
    "Data.dtypes"
   ]
  },
  {
   "cell_type": "code",
   "execution_count": 280,
   "metadata": {},
   "outputs": [
    {
     "data": {
      "text/html": [
       "<div>\n",
       "<style scoped>\n",
       "    .dataframe tbody tr th:only-of-type {\n",
       "        vertical-align: middle;\n",
       "    }\n",
       "\n",
       "    .dataframe tbody tr th {\n",
       "        vertical-align: top;\n",
       "    }\n",
       "\n",
       "    .dataframe thead th {\n",
       "        text-align: right;\n",
       "    }\n",
       "</style>\n",
       "<table border=\"1\" class=\"dataframe\">\n",
       "  <thead>\n",
       "    <tr style=\"text-align: right;\">\n",
       "      <th></th>\n",
       "      <th>id</th>\n",
       "      <th>gender</th>\n",
       "      <th>age</th>\n",
       "      <th>topic</th>\n",
       "      <th>sign</th>\n",
       "      <th>date</th>\n",
       "      <th>text</th>\n",
       "    </tr>\n",
       "  </thead>\n",
       "  <tbody>\n",
       "    <tr>\n",
       "      <th>0</th>\n",
       "      <td>2059027</td>\n",
       "      <td>male</td>\n",
       "      <td>15</td>\n",
       "      <td>Student</td>\n",
       "      <td>Leo</td>\n",
       "      <td>14,May,2004</td>\n",
       "      <td>Info has been found (+/- 100 pages,...</td>\n",
       "    </tr>\n",
       "    <tr>\n",
       "      <th>1</th>\n",
       "      <td>2059027</td>\n",
       "      <td>male</td>\n",
       "      <td>15</td>\n",
       "      <td>Student</td>\n",
       "      <td>Leo</td>\n",
       "      <td>13,May,2004</td>\n",
       "      <td>These are the team members:   Drewe...</td>\n",
       "    </tr>\n",
       "  </tbody>\n",
       "</table>\n",
       "</div>"
      ],
      "text/plain": [
       "        id gender  age    topic sign         date  \\\n",
       "0  2059027   male   15  Student  Leo  14,May,2004   \n",
       "1  2059027   male   15  Student  Leo  13,May,2004   \n",
       "\n",
       "                                                text  \n",
       "0             Info has been found (+/- 100 pages,...  \n",
       "1             These are the team members:   Drewe...  "
      ]
     },
     "execution_count": 280,
     "metadata": {},
     "output_type": "execute_result"
    }
   ],
   "source": [
    "Data.head(2)"
   ]
  },
  {
   "cell_type": "code",
   "execution_count": 281,
   "metadata": {},
   "outputs": [
    {
     "data": {
      "text/plain": [
       "(10000, 7)"
      ]
     },
     "execution_count": 281,
     "metadata": {},
     "output_type": "execute_result"
    }
   ],
   "source": [
    "Data.shape"
   ]
  },
  {
   "cell_type": "code",
   "execution_count": 282,
   "metadata": {},
   "outputs": [
    {
     "data": {
      "text/html": [
       "<div>\n",
       "<style scoped>\n",
       "    .dataframe tbody tr th:only-of-type {\n",
       "        vertical-align: middle;\n",
       "    }\n",
       "\n",
       "    .dataframe tbody tr th {\n",
       "        vertical-align: top;\n",
       "    }\n",
       "\n",
       "    .dataframe thead th {\n",
       "        text-align: right;\n",
       "    }\n",
       "</style>\n",
       "<table border=\"1\" class=\"dataframe\">\n",
       "  <thead>\n",
       "    <tr style=\"text-align: right;\">\n",
       "      <th></th>\n",
       "      <th>count</th>\n",
       "      <th>mean</th>\n",
       "      <th>std</th>\n",
       "      <th>min</th>\n",
       "      <th>25%</th>\n",
       "      <th>50%</th>\n",
       "      <th>75%</th>\n",
       "      <th>max</th>\n",
       "    </tr>\n",
       "  </thead>\n",
       "  <tbody>\n",
       "    <tr>\n",
       "      <th>id</th>\n",
       "      <td>10000.0</td>\n",
       "      <td>1.854823e+06</td>\n",
       "      <td>1.303245e+06</td>\n",
       "      <td>467705.0</td>\n",
       "      <td>649790.0</td>\n",
       "      <td>1103575.0</td>\n",
       "      <td>3176655.0</td>\n",
       "      <td>4321554.0</td>\n",
       "    </tr>\n",
       "    <tr>\n",
       "      <th>age</th>\n",
       "      <td>10000.0</td>\n",
       "      <td>2.801930e+01</td>\n",
       "      <td>8.123923e+00</td>\n",
       "      <td>13.0</td>\n",
       "      <td>23.0</td>\n",
       "      <td>27.0</td>\n",
       "      <td>35.0</td>\n",
       "      <td>46.0</td>\n",
       "    </tr>\n",
       "  </tbody>\n",
       "</table>\n",
       "</div>"
      ],
      "text/plain": [
       "       count          mean           std       min       25%        50%  \\\n",
       "id   10000.0  1.854823e+06  1.303245e+06  467705.0  649790.0  1103575.0   \n",
       "age  10000.0  2.801930e+01  8.123923e+00      13.0      23.0       27.0   \n",
       "\n",
       "           75%        max  \n",
       "id   3176655.0  4321554.0  \n",
       "age       35.0       46.0  "
      ]
     },
     "execution_count": 282,
     "metadata": {},
     "output_type": "execute_result"
    }
   ],
   "source": [
    "Data.describe().transpose()"
   ]
  },
  {
   "cell_type": "code",
   "execution_count": 283,
   "metadata": {},
   "outputs": [
    {
     "data": {
      "text/plain": [
       "id         int64\n",
       "gender    object\n",
       "age        int64\n",
       "topic     object\n",
       "sign      object\n",
       "date      object\n",
       "text      object\n",
       "dtype: object"
      ]
     },
     "execution_count": 283,
     "metadata": {},
     "output_type": "execute_result"
    }
   ],
   "source": [
    "Data.dtypes"
   ]
  },
  {
   "cell_type": "code",
   "execution_count": 284,
   "metadata": {},
   "outputs": [
    {
     "data": {
      "text/plain": [
       "<AxesSubplot:xlabel='gender', ylabel='count'>"
      ]
     },
     "execution_count": 284,
     "metadata": {},
     "output_type": "execute_result"
    },
    {
     "data": {
      "image/png": "[encoded data removed]",
      "text/plain": [
       "<Figure size 432x288 with 1 Axes>"
      ]
     },
     "metadata": {
      "needs_background": "light"
     },
     "output_type": "display_data"
    }
   ],
   "source": [
    "sns.countplot(Data['gender'])"
   ]
  },
  {
   "cell_type": "markdown",
   "metadata": {},
   "source": [
    "#### There are almost equal number of male and female."
   ]
  },
  {
   "cell_type": "code",
   "execution_count": 285,
   "metadata": {},
   "outputs": [
    {
     "data": {
      "text/plain": [
       "<AxesSubplot:xlabel='age', ylabel='count'>"
      ]
     },
     "execution_count": 285,
     "metadata": {},
     "output_type": "execute_result"
    },
    {
     "data": {
      "image/png": "[encoded data removed]",
      "text/plain": [
       "<Figure size 432x288 with 1 Axes>"
      ]
     },
     "metadata": {
      "needs_background": "light"
     },
     "output_type": "display_data"
    }
   ],
   "source": [
    "sns.countplot(Data['age'])"
   ]
  },
  {
   "cell_type": "markdown",
   "metadata": {},
   "source": [
    "##### There are more number of people in the age group 16 to 27."
   ]
  },
  {
   "cell_type": "code",
   "execution_count": 286,
   "metadata": {},
   "outputs": [
    {
     "data": {
      "text/plain": [
       "(array([ 0,  1,  2,  3,  4,  5,  6,  7,  8,  9, 10, 11, 12, 13, 14, 15, 16,\n",
       "        17, 18, 19, 20, 21, 22, 23, 24, 25]),\n",
       " [Text(0, 0, 'Student'),\n",
       "  Text(1, 0, 'InvestmentBanking'),\n",
       "  Text(2, 0, 'indUnk'),\n",
       "  Text(3, 0, 'Non-Profit'),\n",
       "  Text(4, 0, 'Banking'),\n",
       "  Text(5, 0, 'Education'),\n",
       "  Text(6, 0, 'Engineering'),\n",
       "  Text(7, 0, 'Science'),\n",
       "  Text(8, 0, 'Communications-Media'),\n",
       "  Text(9, 0, 'BusinessServices'),\n",
       "  Text(10, 0, 'Sports-Recreation'),\n",
       "  Text(11, 0, 'Arts'),\n",
       "  Text(12, 0, 'Internet'),\n",
       "  Text(13, 0, 'Museums-Libraries'),\n",
       "  Text(14, 0, 'Accounting'),\n",
       "  Text(15, 0, 'Technology'),\n",
       "  Text(16, 0, 'Law'),\n",
       "  Text(17, 0, 'Consulting'),\n",
       "  Text(18, 0, 'Automotive'),\n",
       "  Text(19, 0, 'Religion'),\n",
       "  Text(20, 0, 'Fashion'),\n",
       "  Text(21, 0, 'Publishing'),\n",
       "  Text(22, 0, 'Marketing'),\n",
       "  Text(23, 0, 'LawEnforcement-Security'),\n",
       "  Text(24, 0, 'HumanResources'),\n",
       "  Text(25, 0, 'Telecommunications')])"
      ]
     },
     "execution_count": 286,
     "metadata": {},
     "output_type": "execute_result"
    },
    {
     "data": {
      "image/png": "[encoded data removed]",
      "text/plain": [
       "<Figure size 864x432 with 1 Axes>"
      ]
     },
     "metadata": {
      "needs_background": "light"
     },
     "output_type": "display_data"
    }
   ],
   "source": [
    "plt.figure(figsize=(12,6))\n",
    "sns.countplot(Data['topic'])\n",
    "plt.xticks(rotation=90)"
   ]
  },
  {
   "cell_type": "markdown",
   "metadata": {},
   "source": [
    "#### More number in the topic of student IndUnk"
   ]
  },
  {
   "cell_type": "code",
   "execution_count": 287,
   "metadata": {},
   "outputs": [
    {
     "data": {
      "text/plain": [
       "<AxesSubplot:>"
      ]
     },
     "execution_count": 287,
     "metadata": {},
     "output_type": "execute_result"
    },
    {
     "data": {
      "image/png": "[encoded data removed]",
      "text/plain": [
       "<Figure size 432x288 with 1 Axes>"
      ]
     },
     "metadata": {
      "needs_background": "light"
     },
     "output_type": "display_data"
    }
   ],
   "source": [
    "Data['topic'].value_counts().plot(kind='bar')"
   ]
  },
  {
   "cell_type": "code",
   "execution_count": 288,
   "metadata": {},
   "outputs": [
    {
     "data": {
      "text/plain": [
       "<AxesSubplot:xlabel='gender', ylabel='age'>"
      ]
     },
     "execution_count": 288,
     "metadata": {},
     "output_type": "execute_result"
    },
    {
     "data": {
      "image/png": "[encoded data removed]",
      "text/plain": [
       "<Figure size 432x288 with 1 Axes>"
      ]
     },
     "metadata": {
      "needs_background": "light"
     },
     "output_type": "display_data"
    }
   ],
   "source": [
    "sns.barplot(x = 'gender',\n",
    "            y = 'age',\n",
    "            data = Data)"
   ]
  },
  {
   "cell_type": "code",
   "execution_count": 289,
   "metadata": {},
   "outputs": [
    {
     "data": {
      "image/png": "[encoded data removed]",
      "text/plain": [
       "<Figure size 1152x576 with 1 Axes>"
      ]
     },
     "metadata": {
      "needs_background": "light"
     },
     "output_type": "display_data"
    }
   ],
   "source": [
    "plt.figure(figsize=(16,8))\n",
    "sns.barplot(x = 'gender',\n",
    "            y = 'age',\n",
    "            hue = 'topic',\n",
    "            data = Data,\n",
    "            palette = \"Blues\")\n",
    "plt.show()"
   ]
  },
  {
   "cell_type": "markdown",
   "metadata": {},
   "source": [
    "###  Perform data pre-processing on the data:\n",
    "    • Data cleansing by removing unwanted characters, spaces, stop words etc. \n",
    "    Convert text to lowercase.\n",
    "    • Target/label merger and transformation\n",
    "    • Train and test split\n",
    "    • Vectorisation, etc.\n"
   ]
  },
  {
   "cell_type": "code",
   "execution_count": 290,
   "metadata": {},
   "outputs": [],
   "source": [
    "Data.drop(labels=['id','date','sign'],axis=1,inplace=True)  #removing unwanted columns"
   ]
  },
  {
   "cell_type": "code",
   "execution_count": 291,
   "metadata": {},
   "outputs": [],
   "source": [
    "#chosen few samples to speed up processing\n",
    "Data = Data.sample(2000)"
   ]
  },
  {
   "cell_type": "code",
   "execution_count": 292,
   "metadata": {},
   "outputs": [
    {
     "data": {
      "text/plain": [
       "(2000, 4)"
      ]
     },
     "execution_count": 292,
     "metadata": {},
     "output_type": "execute_result"
    }
   ],
   "source": [
    "Data.shape"
   ]
  },
  {
   "cell_type": "code",
   "execution_count": 293,
   "metadata": {},
   "outputs": [],
   "source": [
    "labels = Data.copy()\n",
    "labels['age'] = labels['age'].astype(str)\n",
    "labels['labels'] = labels[['gender','age','topic']].apply(lambda x:','.join(x), axis = 1) \n"
   ]
  },
  {
   "cell_type": "code",
   "execution_count": 294,
   "metadata": {},
   "outputs": [],
   "source": [
    "labels.drop(labels=['gender','text','age','topic'],axis=1,inplace=True)"
   ]
  },
  {
   "cell_type": "code",
   "execution_count": 295,
   "metadata": {},
   "outputs": [
    {
     "data": {
      "text/html": [
       "<div>\n",
       "<style scoped>\n",
       "    .dataframe tbody tr th:only-of-type {\n",
       "        vertical-align: middle;\n",
       "    }\n",
       "\n",
       "    .dataframe tbody tr th {\n",
       "        vertical-align: top;\n",
       "    }\n",
       "\n",
       "    .dataframe thead th {\n",
       "        text-align: right;\n",
       "    }\n",
       "</style>\n",
       "<table border=\"1\" class=\"dataframe\">\n",
       "  <thead>\n",
       "    <tr style=\"text-align: right;\">\n",
       "      <th></th>\n",
       "      <th>labels</th>\n",
       "    </tr>\n",
       "  </thead>\n",
       "  <tbody>\n",
       "    <tr>\n",
       "      <th>4281</th>\n",
       "      <td>female,34,indUnk</td>\n",
       "    </tr>\n",
       "    <tr>\n",
       "      <th>7923</th>\n",
       "      <td>female,38,Internet</td>\n",
       "    </tr>\n",
       "    <tr>\n",
       "      <th>8518</th>\n",
       "      <td>male,33,Non-Profit</td>\n",
       "    </tr>\n",
       "    <tr>\n",
       "      <th>4097</th>\n",
       "      <td>female,23,Student</td>\n",
       "    </tr>\n",
       "    <tr>\n",
       "      <th>7367</th>\n",
       "      <td>male,36,Fashion</td>\n",
       "    </tr>\n",
       "  </tbody>\n",
       "</table>\n",
       "</div>"
      ],
      "text/plain": [
       "                  labels\n",
       "4281    female,34,indUnk\n",
       "7923  female,38,Internet\n",
       "8518  male,33,Non-Profit\n",
       "4097   female,23,Student\n",
       "7367     male,36,Fashion"
      ]
     },
     "execution_count": 295,
     "metadata": {},
     "output_type": "execute_result"
    }
   ],
   "source": [
    "\n",
    "labels.head()"
   ]
  },
  {
   "cell_type": "code",
   "execution_count": 296,
   "metadata": {},
   "outputs": [
    {
     "data": {
      "text/html": [
       "<div>\n",
       "<style scoped>\n",
       "    .dataframe tbody tr th:only-of-type {\n",
       "        vertical-align: middle;\n",
       "    }\n",
       "\n",
       "    .dataframe tbody tr th {\n",
       "        vertical-align: top;\n",
       "    }\n",
       "\n",
       "    .dataframe thead th {\n",
       "        text-align: right;\n",
       "    }\n",
       "</style>\n",
       "<table border=\"1\" class=\"dataframe\">\n",
       "  <thead>\n",
       "    <tr style=\"text-align: right;\">\n",
       "      <th></th>\n",
       "      <th>index</th>\n",
       "      <th>labels</th>\n",
       "    </tr>\n",
       "  </thead>\n",
       "  <tbody>\n",
       "    <tr>\n",
       "      <th>0</th>\n",
       "      <td>4281</td>\n",
       "      <td>female,34,indUnk</td>\n",
       "    </tr>\n",
       "    <tr>\n",
       "      <th>1</th>\n",
       "      <td>7923</td>\n",
       "      <td>female,38,Internet</td>\n",
       "    </tr>\n",
       "    <tr>\n",
       "      <th>2</th>\n",
       "      <td>8518</td>\n",
       "      <td>male,33,Non-Profit</td>\n",
       "    </tr>\n",
       "    <tr>\n",
       "      <th>3</th>\n",
       "      <td>4097</td>\n",
       "      <td>female,23,Student</td>\n",
       "    </tr>\n",
       "    <tr>\n",
       "      <th>4</th>\n",
       "      <td>7367</td>\n",
       "      <td>male,36,Fashion</td>\n",
       "    </tr>\n",
       "    <tr>\n",
       "      <th>...</th>\n",
       "      <td>...</td>\n",
       "      <td>...</td>\n",
       "    </tr>\n",
       "    <tr>\n",
       "      <th>1995</th>\n",
       "      <td>1937</td>\n",
       "      <td>male,35,Technology</td>\n",
       "    </tr>\n",
       "    <tr>\n",
       "      <th>1996</th>\n",
       "      <td>4027</td>\n",
       "      <td>male,14,Student</td>\n",
       "    </tr>\n",
       "    <tr>\n",
       "      <th>1997</th>\n",
       "      <td>523</td>\n",
       "      <td>female,27,Education</td>\n",
       "    </tr>\n",
       "    <tr>\n",
       "      <th>1998</th>\n",
       "      <td>3673</td>\n",
       "      <td>male,35,Technology</td>\n",
       "    </tr>\n",
       "    <tr>\n",
       "      <th>1999</th>\n",
       "      <td>9227</td>\n",
       "      <td>female,24,indUnk</td>\n",
       "    </tr>\n",
       "  </tbody>\n",
       "</table>\n",
       "<p>2000 rows × 2 columns</p>\n",
       "</div>"
      ],
      "text/plain": [
       "      index               labels\n",
       "0      4281     female,34,indUnk\n",
       "1      7923   female,38,Internet\n",
       "2      8518   male,33,Non-Profit\n",
       "3      4097    female,23,Student\n",
       "4      7367      male,36,Fashion\n",
       "...     ...                  ...\n",
       "1995   1937   male,35,Technology\n",
       "1996   4027      male,14,Student\n",
       "1997    523  female,27,Education\n",
       "1998   3673   male,35,Technology\n",
       "1999   9227     female,24,indUnk\n",
       "\n",
       "[2000 rows x 2 columns]"
      ]
     },
     "execution_count": 296,
     "metadata": {},
     "output_type": "execute_result"
    }
   ],
   "source": [
    "labels.reset_index()"
   ]
  },
  {
   "cell_type": "code",
   "execution_count": 297,
   "metadata": {},
   "outputs": [
    {
     "data": {
      "text/html": [
       "<div>\n",
       "<style scoped>\n",
       "    .dataframe tbody tr th:only-of-type {\n",
       "        vertical-align: middle;\n",
       "    }\n",
       "\n",
       "    .dataframe tbody tr th {\n",
       "        vertical-align: top;\n",
       "    }\n",
       "\n",
       "    .dataframe thead th {\n",
       "        text-align: right;\n",
       "    }\n",
       "</style>\n",
       "<table border=\"1\" class=\"dataframe\">\n",
       "  <thead>\n",
       "    <tr style=\"text-align: right;\">\n",
       "      <th></th>\n",
       "      <th>index</th>\n",
       "      <th>text</th>\n",
       "    </tr>\n",
       "  </thead>\n",
       "  <tbody>\n",
       "    <tr>\n",
       "      <th>0</th>\n",
       "      <td>4281</td>\n",
       "      <td>urlLink Battling with Sanity  has cool...</td>\n",
       "    </tr>\n",
       "    <tr>\n",
       "      <th>1</th>\n",
       "      <td>7923</td>\n",
       "      <td>Jim Kendall has been visiting from Madr...</td>\n",
       "    </tr>\n",
       "    <tr>\n",
       "      <th>2</th>\n",
       "      <td>8518</td>\n",
       "      <td>urlLink Printer Friendly Version - Rev...</td>\n",
       "    </tr>\n",
       "    <tr>\n",
       "      <th>3</th>\n",
       "      <td>4097</td>\n",
       "      <td>Whew!  While moving upstairs has ...</td>\n",
       "    </tr>\n",
       "    <tr>\n",
       "      <th>4</th>\n",
       "      <td>7367</td>\n",
       "      <td>This  urlLink totally creeps me out...</td>\n",
       "    </tr>\n",
       "    <tr>\n",
       "      <th>...</th>\n",
       "      <td>...</td>\n",
       "      <td>...</td>\n",
       "    </tr>\n",
       "    <tr>\n",
       "      <th>1995</th>\n",
       "      <td>1937</td>\n",
       "      <td>urlLink http://www.angryflower.com...</td>\n",
       "    </tr>\n",
       "    <tr>\n",
       "      <th>1996</th>\n",
       "      <td>4027</td>\n",
       "      <td>I think I've figured out how to leave o...</td>\n",
       "    </tr>\n",
       "    <tr>\n",
       "      <th>1997</th>\n",
       "      <td>523</td>\n",
       "      <td>Yesterday, the phone rang while I was b...</td>\n",
       "    </tr>\n",
       "    <tr>\n",
       "      <th>1998</th>\n",
       "      <td>3673</td>\n",
       "      <td>Any of you seen this yet?   urlLink...</td>\n",
       "    </tr>\n",
       "    <tr>\n",
       "      <th>1999</th>\n",
       "      <td>9227</td>\n",
       "      <td>of gold dust that the whole w...</td>\n",
       "    </tr>\n",
       "  </tbody>\n",
       "</table>\n",
       "<p>2000 rows × 2 columns</p>\n",
       "</div>"
      ],
      "text/plain": [
       "      index                                               text\n",
       "0      4281          urlLink Battling with Sanity  has cool...\n",
       "1      7923         Jim Kendall has been visiting from Madr...\n",
       "2      8518          urlLink Printer Friendly Version - Rev...\n",
       "3      4097               Whew!  While moving upstairs has ...\n",
       "4      7367             This  urlLink totally creeps me out...\n",
       "...     ...                                                ...\n",
       "1995   1937              urlLink http://www.angryflower.com...\n",
       "1996   4027         I think I've figured out how to leave o...\n",
       "1997    523         Yesterday, the phone rang while I was b...\n",
       "1998   3673             Any of you seen this yet?   urlLink...\n",
       "1999   9227                   of gold dust that the whole w...\n",
       "\n",
       "[2000 rows x 2 columns]"
      ]
     },
     "execution_count": 297,
     "metadata": {},
     "output_type": "execute_result"
    }
   ],
   "source": [
    "new_data = Data.copy()\n",
    "del Data\n",
    "new_data = new_data['text']\n",
    "new_data.head()\n",
    "new_data.reset_index()"
   ]
  },
  {
   "cell_type": "code",
   "execution_count": 298,
   "metadata": {},
   "outputs": [],
   "source": [
    "import re\n",
    "from nltk.corpus import stopwords\n",
    "from nltk.stem.porter import PorterStemmer\n",
    "ps=PorterStemmer()\n",
    "corpus=[]\n",
    "for i in range(0,len(new_data)):\n",
    "    review = re.sub('[^a-zA-Z]', ' ',new_data.iloc[i])\n",
    "    review = review.lower()\n",
    "    review = review.split()\n",
    "    \n",
    "    review = [ps.stem(word) for word in review if not word in stopwords.words('english')]\n",
    "    review = ' '.join(review)\n",
    "    corpus.append(review)"
   ]
  },
  {
   "cell_type": "code",
   "execution_count": 299,
   "metadata": {},
   "outputs": [
    {
     "data": {
      "text/plain": [
       "2000"
      ]
     },
     "execution_count": 299,
     "metadata": {},
     "output_type": "execute_result"
    }
   ],
   "source": [
    "len(corpus)"
   ]
  },
  {
   "cell_type": "code",
   "execution_count": 300,
   "metadata": {},
   "outputs": [],
   "source": [
    "del new_data"
   ]
  },
  {
   "cell_type": "code",
   "execution_count": 301,
   "metadata": {},
   "outputs": [
    {
     "name": "stdout",
     "output_type": "stream",
     "text": [
      "4281    [[f], [e], [m], [a], [l], [e], [, ], [3], [4],...\n",
      "7923    [[f], [e], [m], [a], [l], [e], [, ], [3], [8],...\n",
      "8518    [[m], [a], [l], [e], [, ], [3], [3], [, ], [N]...\n",
      "4097    [[f], [e], [m], [a], [l], [e], [, ], [2], [3],...\n",
      "7367    [[m], [a], [l], [e], [, ], [3], [6], [, ], [F]...\n",
      "                              ...                        \n",
      "1937    [[m], [a], [l], [e], [, ], [3], [5], [, ], [T]...\n",
      "4027    [[m], [a], [l], [e], [, ], [1], [4], [, ], [S]...\n",
      "523     [[f], [e], [m], [a], [l], [e], [, ], [2], [7],...\n",
      "3673    [[m], [a], [l], [e], [, ], [3], [5], [, ], [T]...\n",
      "9227    [[f], [e], [m], [a], [l], [e], [, ], [2], [4],...\n",
      "Name: labels, Length: 2000, dtype: object\n"
     ]
    }
   ],
   "source": [
    "X = corpus\n",
    "joiny= lambda x: [[\"\".join(re.findall(\"\\w\",f)) for f in lst] for lst in [str(s).split(\",\") for s in x]]\n",
    "print(labels['labels'].apply(joiny))\n",
    "y = labels['labels']"
   ]
  },
  {
   "cell_type": "code",
   "execution_count": 302,
   "metadata": {},
   "outputs": [
    {
     "name": "stdout",
     "output_type": "stream",
     "text": [
      "4281      female,34,indUnk\n",
      "7923    female,38,Internet\n",
      "8518    male,33,Non-Profit\n",
      "4097     female,23,Student\n",
      "7367       male,36,Fashion\n",
      "Name: labels, dtype: object\n",
      "4281      female,34,indUnk\n",
      "7923    female,38,Internet\n",
      "8518    male,33,Non-Profit\n",
      "4097     female,23,Student\n",
      "7367       male,36,Fashion\n",
      "Name: labels, dtype: object\n"
     ]
    }
   ],
   "source": [
    "print(y[:5])\n",
    "print(labels['labels'].head())"
   ]
  },
  {
   "cell_type": "code",
   "execution_count": 303,
   "metadata": {},
   "outputs": [],
   "source": [
    "X_train, X_test, y_train, y_test = train_test_split(X,y, test_size = 0.30, random_state = 42)"
   ]
  },
  {
   "cell_type": "code",
   "execution_count": 304,
   "metadata": {},
   "outputs": [
    {
     "data": {
      "text/plain": [
       "CountVectorizer(ngram_range=(1, 3), stop_words='english',\n",
       "                token_pattern='\\\\w{1,}')"
      ]
     },
     "execution_count": 304,
     "metadata": {},
     "output_type": "execute_result"
    }
   ],
   "source": [
    "from sklearn.feature_extraction.text import TfidfVectorizer, CountVectorizer\n",
    "vectorizer = CountVectorizer(analyzer='word', token_pattern=r'\\w{1,}', \n",
    "                      ngram_range=(1, 3), stop_words = 'english')\n",
    "\n",
    "\n",
    "vectorizer.fit(corpus)"
   ]
  },
  {
   "cell_type": "code",
   "execution_count": 305,
   "metadata": {},
   "outputs": [],
   "source": [
    "xtrain_ctv = vectorizer.fit_transform(X_train)"
   ]
  },
  {
   "cell_type": "code",
   "execution_count": 306,
   "metadata": {},
   "outputs": [],
   "source": [
    "xtest_ctv = vectorizer.transform(X_test)"
   ]
  },
  {
   "cell_type": "code",
   "execution_count": 307,
   "metadata": {},
   "outputs": [
    {
     "data": {
      "text/plain": [
       "['aaa',\n",
       " 'aaa come',\n",
       " 'aaa come tow',\n",
       " 'aaa someon',\n",
       " 'aaa someon come',\n",
       " 'aaa tow',\n",
       " 'aaa tow car',\n",
       " 'aaaaaaaaah',\n",
       " 'aaaaaaah',\n",
       " 'aaaaaaah fade']"
      ]
     },
     "execution_count": 307,
     "metadata": {},
     "output_type": "execute_result"
    }
   ],
   "source": [
    "vectorizer.get_feature_names()[:10]"
   ]
  },
  {
   "cell_type": "code",
   "execution_count": 308,
   "metadata": {},
   "outputs": [],
   "source": [
    "#y = [[\"\".join(re.findall(\"\\w\",f)) for f in lst] for lst in [str(s).split(\",\") for s in y]]"
   ]
  },
  {
   "cell_type": "code",
   "execution_count": 309,
   "metadata": {},
   "outputs": [],
   "source": [
    "vectorizer_labels = CountVectorizer(min_df = 1,ngram_range = (1,1),stop_words = \"english\")\n",
    "labels_vector = vectorizer_labels.fit_transform(y)"
   ]
  },
  {
   "cell_type": "code",
   "execution_count": 310,
   "metadata": {},
   "outputs": [
    {
     "data": {
      "text/plain": [
       "<2000x53 sparse matrix of type '<class 'numpy.int64'>'\n",
       "\twith 6049 stored elements in Compressed Sparse Row format>"
      ]
     },
     "execution_count": 310,
     "metadata": {},
     "output_type": "execute_result"
    }
   ],
   "source": [
    "labels_vector"
   ]
  },
  {
   "cell_type": "code",
   "execution_count": 311,
   "metadata": {},
   "outputs": [
    {
     "name": "stdout",
     "output_type": "stream",
     "text": [
      "['female', '34', 'indunk', '38', 'internet', 'male', '33', 'non', 'profit', '23', 'student', '36', 'fashion', '15', '27', 'technology', '24', '16', '35', '14', '41', 'education', '17', '39', 'engineering', '26', '25', 'investmentbanking', 'marketing', 'businessservices', 'science', 'communications', 'media', 'arts', '43', 'sports', 'recreation', '42', 'consulting', '45', 'humanresources', 'religion', 'museums', 'libraries', '13', 'law', '44', 'automotive', '37', 'publishing', '46', 'lawenforcement', 'security']\n"
     ]
    }
   ],
   "source": [
    "from sklearn.preprocessing import MultiLabelBinarizer\n",
    "label_classes=[]\n",
    "for  key in vectorizer_labels.vocabulary_.keys():\n",
    "    label_classes.append(key)\n",
    "print(label_classes)\n",
    "binarizer = MultiLabelBinarizer(classes = label_classes)\n"
   ]
  },
  {
   "cell_type": "code",
   "execution_count": 312,
   "metadata": {},
   "outputs": [
    {
     "name": "stdout",
     "output_type": "stream",
     "text": [
      "53\n"
     ]
    }
   ],
   "source": [
    "print(len(label_classes))"
   ]
  },
  {
   "cell_type": "code",
   "execution_count": 313,
   "metadata": {},
   "outputs": [],
   "source": [
    "\n",
    "#labels_trans = binarizer.fit(labels) \n",
    "Y_train = [[\"\".join(re.findall(\"\\w\",f)) for f in lst] for lst in [str(s).split(\",\") for s in y_train]]\n",
    "\n",
    "Y_test = [[\"\".join(re.findall(\"\\w\",f)) for f in lst] for lst in [str(s).split(\",\") for s in y_test]]\n"
   ]
  },
  {
   "cell_type": "code",
   "execution_count": null,
   "metadata": {},
   "outputs": [],
   "source": []
  },
  {
   "cell_type": "code",
   "execution_count": 314,
   "metadata": {},
   "outputs": [],
   "source": [
    "Y_train_bin = binarizer.fit_transform(Y_train)\n",
    "\n",
    "Y_test_bin = binarizer.transform(Y_test) "
   ]
  },
  {
   "cell_type": "code",
   "execution_count": 315,
   "metadata": {},
   "outputs": [
    {
     "data": {
      "text/plain": [
       "(1400, 53)"
      ]
     },
     "execution_count": 315,
     "metadata": {},
     "output_type": "execute_result"
    }
   ],
   "source": [
    "Y_train_bin.shape"
   ]
  },
  {
   "cell_type": "code",
   "execution_count": 316,
   "metadata": {},
   "outputs": [
    {
     "data": {
      "text/plain": [
       "array([[1, 1, 0, 0, 0, 0, 0, 0, 0, 0, 0, 0, 0, 0, 0, 0, 0, 0, 0, 0, 0, 0,\n",
       "        0, 0, 0, 0, 0, 0, 0, 0, 0, 0, 0, 0, 0, 0, 0, 0, 0, 0, 0, 0, 0, 0,\n",
       "        0, 0, 0, 0, 0, 0, 0, 0, 0],\n",
       "       [0, 0, 0, 0, 0, 1, 0, 0, 0, 0, 0, 1, 0, 0, 0, 0, 0, 0, 0, 0, 0, 0,\n",
       "        0, 0, 0, 0, 0, 0, 0, 0, 0, 0, 0, 0, 0, 0, 0, 0, 0, 0, 0, 0, 0, 0,\n",
       "        0, 0, 0, 0, 0, 0, 0, 0, 0],\n",
       "       [0, 0, 0, 0, 0, 1, 0, 0, 0, 0, 0, 0, 0, 0, 0, 0, 0, 0, 1, 0, 0, 0,\n",
       "        0, 0, 0, 0, 0, 0, 0, 0, 0, 0, 0, 0, 0, 0, 0, 0, 0, 0, 0, 0, 0, 0,\n",
       "        0, 0, 0, 0, 0, 0, 0, 0, 0],\n",
       "       [1, 1, 0, 0, 0, 0, 0, 0, 0, 0, 0, 0, 0, 0, 0, 0, 0, 0, 0, 0, 0, 0,\n",
       "        0, 0, 0, 0, 0, 0, 0, 0, 0, 0, 0, 0, 0, 0, 0, 0, 0, 0, 0, 0, 0, 0,\n",
       "        0, 0, 0, 0, 0, 0, 0, 0, 0],\n",
       "       [0, 0, 0, 0, 0, 1, 0, 0, 0, 0, 0, 0, 0, 0, 0, 0, 0, 1, 0, 0, 0, 0,\n",
       "        0, 0, 0, 0, 0, 0, 0, 0, 0, 0, 0, 0, 0, 0, 0, 0, 0, 0, 0, 0, 0, 0,\n",
       "        0, 0, 0, 0, 0, 0, 0, 0, 0]])"
      ]
     },
     "execution_count": 316,
     "metadata": {},
     "output_type": "execute_result"
    }
   ],
   "source": [
    "Y_train_bin[:5]"
   ]
  },
  {
   "cell_type": "code",
   "execution_count": 317,
   "metadata": {},
   "outputs": [
    {
     "data": {
      "text/plain": [
       "[('female', '34'),\n",
       " ('male', '36'),\n",
       " ('male', '35'),\n",
       " ('female', '34'),\n",
       " ('male', '16')]"
      ]
     },
     "execution_count": 317,
     "metadata": {},
     "output_type": "execute_result"
    }
   ],
   "source": [
    "binarizer.inverse_transform(Y_train_bin)[:5]"
   ]
  },
  {
   "cell_type": "code",
   "execution_count": 318,
   "metadata": {},
   "outputs": [
    {
     "data": {
      "text/plain": [
       "(600, 53)"
      ]
     },
     "execution_count": 318,
     "metadata": {},
     "output_type": "execute_result"
    }
   ],
   "source": [
    "Y_test_bin.shape"
   ]
  },
  {
   "cell_type": "code",
   "execution_count": 319,
   "metadata": {},
   "outputs": [
    {
     "data": {
      "text/plain": [
       "(1400, 53)"
      ]
     },
     "execution_count": 319,
     "metadata": {},
     "output_type": "execute_result"
    }
   ],
   "source": [
    "Y_train_bin.shape"
   ]
  },
  {
   "cell_type": "code",
   "execution_count": 320,
   "metadata": {},
   "outputs": [
    {
     "name": "stdout",
     "output_type": "stream",
     "text": [
      "600\n"
     ]
    }
   ],
   "source": [
    "print(xtest_ctv.shape[0])"
   ]
  },
  {
   "cell_type": "code",
   "execution_count": 321,
   "metadata": {},
   "outputs": [
    {
     "name": "stdout",
     "output_type": "stream",
     "text": [
      "1400\n"
     ]
    }
   ],
   "source": [
    "print(xtrain_ctv.shape[0])"
   ]
  },
  {
   "cell_type": "code",
   "execution_count": 322,
   "metadata": {},
   "outputs": [
    {
     "data": {
      "text/plain": [
       "array([[1, 0, 0, 0, 0, 0, 0, 0, 0, 0, 0, 0, 0, 0, 0, 0, 0, 1, 0, 0, 0, 0,\n",
       "        0, 0, 0, 0, 0, 0, 0, 0, 0, 0, 0, 0, 0, 0, 0, 0, 0, 0, 0, 0, 0, 0,\n",
       "        0, 0, 0, 0, 0, 0, 0, 0, 0],\n",
       "       [1, 0, 0, 0, 0, 0, 0, 0, 0, 0, 0, 0, 0, 0, 1, 0, 0, 0, 0, 0, 0, 0,\n",
       "        0, 0, 0, 0, 0, 0, 0, 0, 0, 0, 0, 0, 0, 0, 0, 0, 0, 0, 0, 0, 0, 0,\n",
       "        0, 0, 0, 0, 0, 0, 0, 0, 0],\n",
       "       [0, 0, 0, 0, 0, 1, 0, 0, 0, 0, 0, 0, 0, 1, 0, 0, 0, 0, 0, 0, 0, 0,\n",
       "        0, 0, 0, 0, 0, 0, 0, 0, 0, 0, 0, 0, 0, 0, 0, 0, 0, 0, 0, 0, 0, 0,\n",
       "        0, 0, 0, 0, 0, 0, 0, 0, 0],\n",
       "       [0, 0, 0, 0, 0, 1, 0, 0, 0, 0, 0, 0, 0, 0, 0, 0, 0, 0, 1, 0, 0, 0,\n",
       "        0, 0, 0, 0, 0, 0, 0, 0, 0, 0, 0, 0, 0, 0, 0, 0, 0, 0, 0, 0, 0, 0,\n",
       "        0, 0, 0, 0, 0, 0, 0, 0, 0],\n",
       "       [0, 0, 0, 0, 0, 1, 0, 0, 0, 0, 0, 0, 0, 0, 0, 0, 0, 0, 1, 0, 0, 0,\n",
       "        0, 0, 0, 0, 0, 0, 0, 0, 0, 0, 0, 0, 0, 0, 0, 0, 0, 0, 0, 0, 0, 0,\n",
       "        0, 0, 0, 0, 0, 0, 0, 0, 0]])"
      ]
     },
     "execution_count": 322,
     "metadata": {},
     "output_type": "execute_result"
    }
   ],
   "source": [
    "Y_test_bin[:5]"
   ]
  },
  {
   "cell_type": "code",
   "execution_count": 323,
   "metadata": {},
   "outputs": [
    {
     "name": "stdout",
     "output_type": "stream",
     "text": [
      "Best: 0.176429 using {'estimator__C': 1.0, 'estimator__penalty': 'l2', 'estimator__solver': 'newton-cg'}\n",
      "0.148571 (0.036742) with: {'estimator__C': 10, 'estimator__penalty': 'l2', 'estimator__solver': 'newton-cg'}\n",
      "0.148571 (0.036742) with: {'estimator__C': 10, 'estimator__penalty': 'l2', 'estimator__solver': 'lbfgs'}\n",
      "0.147857 (0.037430) with: {'estimator__C': 10, 'estimator__penalty': 'l2', 'estimator__solver': 'liblinear'}\n",
      "0.176429 (0.024599) with: {'estimator__C': 1.0, 'estimator__penalty': 'l2', 'estimator__solver': 'newton-cg'}\n",
      "0.176429 (0.024599) with: {'estimator__C': 1.0, 'estimator__penalty': 'l2', 'estimator__solver': 'lbfgs'}\n",
      "0.170714 (0.027793) with: {'estimator__C': 1.0, 'estimator__penalty': 'l2', 'estimator__solver': 'liblinear'}\n",
      "0.130000 (0.014569) with: {'estimator__C': 0.1, 'estimator__penalty': 'l2', 'estimator__solver': 'newton-cg'}\n",
      "0.130000 (0.014569) with: {'estimator__C': 0.1, 'estimator__penalty': 'l2', 'estimator__solver': 'lbfgs'}\n",
      "0.125000 (0.019821) with: {'estimator__C': 0.1, 'estimator__penalty': 'l2', 'estimator__solver': 'liblinear'}\n"
     ]
    }
   ],
   "source": [
    "\n",
    "solvers = ['newton-cg', 'lbfgs', 'liblinear']\n",
    "penalty = ['l2']\n",
    "c_values = [10, 1.0, 0.1]\n",
    "grid = dict(estimator__solver=solvers,estimator__penalty=penalty,estimator__C=c_values)\n",
    "cv = KFold(n_splits=5,shuffle=True, random_state=1)\n",
    "\n",
    "# summarize results\n",
    "lr_clf = LogisticRegression() \n",
    "lr_clf = OneVsRestClassifier(lr_clf)\n",
    "#print(lr_clf.get_params().keys())\n",
    "#lr_clf.fit(xtrain_ctv,Y_train_bin)\n",
    "grid_search = GridSearchCV(estimator=lr_clf, param_grid=grid, n_jobs=-1, cv=cv, scoring='accuracy',error_score=0)\n",
    "grid_result = grid_search.fit(xtrain_ctv,Y_train_bin)\n",
    "print(\"Best: %f using %s\" % (grid_result.best_score_, grid_result.best_params_))\n",
    "means = grid_result.cv_results_['mean_test_score']\n",
    "stds = grid_result.cv_results_['std_test_score']\n",
    "params = grid_result.cv_results_['params']\n",
    "for mean, stdev, param in zip(means, stds, params):\n",
    "    print(\"%f (%f) with: %r\" % (mean, stdev, param))"
   ]
  },
  {
   "cell_type": "code",
   "execution_count": 324,
   "metadata": {},
   "outputs": [
    {
     "name": "stdout",
     "output_type": "stream",
     "text": [
      "Training Accuracy logistic regression : 0.9635714285714285\n"
     ]
    }
   ],
   "source": [
    "\n",
    "print(\"Training Accuracy logistic regression :\",grid_search.score(xtrain_ctv,Y_train_bin))"
   ]
  },
  {
   "cell_type": "code",
   "execution_count": 325,
   "metadata": {},
   "outputs": [
    {
     "name": "stdout",
     "output_type": "stream",
     "text": [
      "Test Accuracy Logistic regression :0.16\n"
     ]
    }
   ],
   "source": [
    "y_pred = grid_search.predict(xtest_ctv)\n",
    "print(\"Test Accuracy Logistic regression :\" + str(accuracy_score(Y_test_bin,y_pred)))"
   ]
  },
  {
   "cell_type": "code",
   "execution_count": 326,
   "metadata": {},
   "outputs": [
    {
     "name": "stdout",
     "output_type": "stream",
     "text": [
      "True labels and predicted labels\n",
      "[('female', '16'), ('female', '27'), ('male', '15'), ('male', '35'), ('male', '35')]\n"
     ]
    },
    {
     "data": {
      "text/plain": [
       "[('male',), ('male',), ('male',), ('male', '35'), ('male',)]"
      ]
     },
     "execution_count": 326,
     "metadata": {},
     "output_type": "execute_result"
    }
   ],
   "source": [
    "print(\"True labels and predicted labels\")\n",
    "print(binarizer.inverse_transform(Y_test_bin)[:5])\n",
    "binarizer.inverse_transform(y_pred)[0:5]"
   ]
  },
  {
   "cell_type": "code",
   "execution_count": 327,
   "metadata": {},
   "outputs": [
    {
     "name": "stdout",
     "output_type": "stream",
     "text": [
      "Test Accuracy score:  0.16\n",
      "F1 score: Micro 0.5290190035952748\n",
      "Average precision score: Micro 0.3174188367726672\n",
      "Average recall score: Micro 0.42916666666666664\n",
      "              precision    recall  f1-score   support\n",
      "\n",
      "           0       0.70      0.46      0.56       253\n",
      "           1       0.86      0.22      0.35        27\n",
      "           2       0.00      0.00      0.00         0\n",
      "           3       0.00      0.00      0.00         3\n",
      "           4       0.00      0.00      0.00         0\n",
      "           5       0.69      0.85      0.76       347\n",
      "           6       0.00      0.00      0.00         8\n",
      "           7       0.00      0.00      0.00         0\n",
      "           8       0.00      0.00      0.00         0\n",
      "           9       0.00      0.00      0.00        10\n",
      "          10       0.00      0.00      0.00         0\n",
      "          11       0.78      0.26      0.39        97\n",
      "          12       0.00      0.00      0.00         0\n",
      "          13       0.50      0.03      0.05        40\n",
      "          14       0.58      0.11      0.18        65\n",
      "          15       0.00      0.00      0.00         0\n",
      "          16       0.33      0.02      0.04        47\n",
      "          17       0.50      0.10      0.17        30\n",
      "          18       0.74      0.39      0.51       141\n",
      "          19       0.00      0.00      0.00        13\n",
      "          20       0.00      0.00      0.00         1\n",
      "          21       0.00      0.00      0.00         0\n",
      "          22       0.33      0.05      0.08        65\n",
      "          23       0.00      0.00      0.00         5\n",
      "          24       0.00      0.00      0.00         0\n",
      "          25       0.00      0.00      0.00        12\n",
      "          26       1.00      0.04      0.07        26\n",
      "          27       0.00      0.00      0.00         0\n",
      "          28       0.00      0.00      0.00         0\n",
      "          29       0.00      0.00      0.00         0\n",
      "          30       0.00      0.00      0.00         0\n",
      "          31       0.00      0.00      0.00         0\n",
      "          32       0.00      0.00      0.00         0\n",
      "          33       0.00      0.00      0.00         0\n",
      "          34       0.00      0.00      0.00         1\n",
      "          35       0.00      0.00      0.00         0\n",
      "          36       0.00      0.00      0.00         0\n",
      "          37       0.00      0.00      0.00         2\n",
      "          38       0.00      0.00      0.00         0\n",
      "          39       0.00      0.00      0.00         1\n",
      "          40       0.00      0.00      0.00         0\n",
      "          41       0.00      0.00      0.00         0\n",
      "          42       0.00      0.00      0.00         0\n",
      "          43       0.00      0.00      0.00         0\n",
      "          44       0.00      0.00      0.00         4\n",
      "          45       0.00      0.00      0.00         0\n",
      "          46       0.00      0.00      0.00         0\n",
      "          47       0.00      0.00      0.00         0\n",
      "          48       0.00      0.00      0.00         2\n",
      "          49       0.00      0.00      0.00         0\n",
      "          50       0.00      0.00      0.00         0\n",
      "          51       0.00      0.00      0.00         0\n",
      "          52       0.00      0.00      0.00         0\n",
      "\n",
      "   micro avg       0.69      0.43      0.53      1200\n",
      "   macro avg       0.13      0.05      0.06      1200\n",
      "weighted avg       0.63      0.43      0.46      1200\n",
      " samples avg       0.68      0.43      0.51      1200\n",
      "\n"
     ]
    }
   ],
   "source": [
    "\n",
    "print('Test Accuracy score: ', accuracy_score(Y_test_bin, y_pred))\n",
    "print('F1 score: Micro', f1_score(Y_test_bin, y_pred,average='micro'))\n",
    "print('Average precision score: Micro', average_precision_score(Y_test_bin, y_pred, average='micro'))\n",
    "print('Average recall score: Micro', recall_score(Y_test_bin, y_pred,average='micro'))\n",
    "print(classification_report(Y_test_bin, y_pred))"
   ]
  },
  {
   "cell_type": "markdown",
   "metadata": {},
   "source": [
    "Classification report shows precision, recall, F1-score are higher for those labels which have more counts in the training set (support)."
   ]
  },
  {
   "cell_type": "code",
   "execution_count": 328,
   "metadata": {},
   "outputs": [],
   "source": [
    "import random \n",
    "\n",
    "def print_predicted(y_predicted, y_test , n = 5):\n",
    "    j = []\n",
    "    for i in range(n):\n",
    "        j.append(random.randint(0, len(y_test)))\n",
    "    print(j)\n",
    "                 \n",
    "    for k in j:\n",
    "        print(binarizer.inverse_transform(y_predicted)[k])\n",
    "        print(binarizer.inverse_transform(y_test)[k])"
   ]
  },
  {
   "cell_type": "code",
   "execution_count": 329,
   "metadata": {},
   "outputs": [
    {
     "name": "stdout",
     "output_type": "stream",
     "text": [
      "[422, 572, 47, 410, 188]\n",
      "('female',)\n",
      "('female', '36')\n",
      "('male',)\n",
      "('female', '25')\n",
      "('female',)\n",
      "('male', '33')\n",
      "('female',)\n",
      "('female', '17')\n",
      "('female',)\n",
      "('male', '16')\n"
     ]
    }
   ],
   "source": [
    "print_predicted(y_predicted=y_pred,y_test=Y_test_bin, n= 5)"
   ]
  },
  {
   "cell_type": "code",
   "execution_count": 330,
   "metadata": {},
   "outputs": [],
   "source": [
    "from sklearn.ensemble import RandomForestClassifier\n",
    "model=RandomForestClassifier(max_depth=10,random_state=0)"
   ]
  },
  {
   "cell_type": "code",
   "execution_count": 331,
   "metadata": {},
   "outputs": [],
   "source": [
    "model.fit(xtrain_ctv,Y_train_bin)\n",
    "rf_pred = model.predict(xtest_ctv)"
   ]
  },
  {
   "cell_type": "code",
   "execution_count": 332,
   "metadata": {},
   "outputs": [
    {
     "data": {
      "text/plain": [
       "[('male',), ('male',), ('male',), ('male',), ('male',)]"
      ]
     },
     "execution_count": 332,
     "metadata": {},
     "output_type": "execute_result"
    }
   ],
   "source": [
    "binarizer.inverse_transform(rf_pred)[0:5]"
   ]
  },
  {
   "cell_type": "code",
   "execution_count": 333,
   "metadata": {},
   "outputs": [
    {
     "data": {
      "text/plain": [
       "array([[1, 0, 0, 0, 0, 0, 0, 0, 0, 0, 0, 0, 0, 0, 0, 0, 0, 1, 0, 0, 0, 0,\n",
       "        0, 0, 0, 0, 0, 0, 0, 0, 0, 0, 0, 0, 0, 0, 0, 0, 0, 0, 0, 0, 0, 0,\n",
       "        0, 0, 0, 0, 0, 0, 0, 0, 0],\n",
       "       [1, 0, 0, 0, 0, 0, 0, 0, 0, 0, 0, 0, 0, 0, 1, 0, 0, 0, 0, 0, 0, 0,\n",
       "        0, 0, 0, 0, 0, 0, 0, 0, 0, 0, 0, 0, 0, 0, 0, 0, 0, 0, 0, 0, 0, 0,\n",
       "        0, 0, 0, 0, 0, 0, 0, 0, 0],\n",
       "       [0, 0, 0, 0, 0, 1, 0, 0, 0, 0, 0, 0, 0, 1, 0, 0, 0, 0, 0, 0, 0, 0,\n",
       "        0, 0, 0, 0, 0, 0, 0, 0, 0, 0, 0, 0, 0, 0, 0, 0, 0, 0, 0, 0, 0, 0,\n",
       "        0, 0, 0, 0, 0, 0, 0, 0, 0],\n",
       "       [0, 0, 0, 0, 0, 1, 0, 0, 0, 0, 0, 0, 0, 0, 0, 0, 0, 0, 1, 0, 0, 0,\n",
       "        0, 0, 0, 0, 0, 0, 0, 0, 0, 0, 0, 0, 0, 0, 0, 0, 0, 0, 0, 0, 0, 0,\n",
       "        0, 0, 0, 0, 0, 0, 0, 0, 0],\n",
       "       [0, 0, 0, 0, 0, 1, 0, 0, 0, 0, 0, 0, 0, 0, 0, 0, 0, 0, 1, 0, 0, 0,\n",
       "        0, 0, 0, 0, 0, 0, 0, 0, 0, 0, 0, 0, 0, 0, 0, 0, 0, 0, 0, 0, 0, 0,\n",
       "        0, 0, 0, 0, 0, 0, 0, 0, 0]])"
      ]
     },
     "execution_count": 333,
     "metadata": {},
     "output_type": "execute_result"
    }
   ],
   "source": [
    "Y_test_bin[0:5]"
   ]
  },
  {
   "cell_type": "code",
   "execution_count": 334,
   "metadata": {},
   "outputs": [
    {
     "name": "stdout",
     "output_type": "stream",
     "text": [
      "Test Accuracy:0.0\n",
      "F1 score: Micro 0.39555555555555555\n",
      "Average precision score: Micro 0.2025631027253669\n",
      "Average recall score: Micro 0.2966666666666667\n"
     ]
    }
   ],
   "source": [
    "print(\"Test Accuracy:\" + str(accuracy_score(Y_test_bin,rf_pred)))\n",
    "print('F1 score: Micro', f1_score(Y_test_bin, rf_pred,average='micro'))\n",
    "print('Average precision score: Micro', average_precision_score(Y_test_bin, rf_pred, average='micro'))\n",
    "print('Average recall score: Micro', recall_score(Y_test_bin, rf_pred,average='micro'))"
   ]
  },
  {
   "cell_type": "code",
   "execution_count": 335,
   "metadata": {},
   "outputs": [],
   "source": [
    "#!pip install scikit-multilearn"
   ]
  },
  {
   "cell_type": "code",
   "execution_count": 336,
   "metadata": {},
   "outputs": [],
   "source": [
    "vectorizer_labels_tfd = TfidfVectorizer(min_df = 3,ngram_range = (1,1),stop_words = \"english\")\n",
    "labels_vector_tfd = vectorizer_labels.fit_transform(y)"
   ]
  },
  {
   "cell_type": "code",
   "execution_count": 337,
   "metadata": {},
   "outputs": [],
   "source": [
    "binarizer_tfd = MultiLabelBinarizer(classes = label_classes)\n"
   ]
  },
  {
   "cell_type": "code",
   "execution_count": 338,
   "metadata": {},
   "outputs": [],
   "source": [
    "Y_train_bintfd = binarizer_tfd.fit_transform(Y_train)\n",
    "\n",
    "Y_test_bintfd = binarizer_tfd.transform(Y_test) "
   ]
  },
  {
   "cell_type": "code",
   "execution_count": null,
   "metadata": {},
   "outputs": [],
   "source": []
  },
  {
   "cell_type": "code",
   "execution_count": 339,
   "metadata": {},
   "outputs": [
    {
     "data": {
      "text/plain": [
       "<1400x8158 sparse matrix of type '<class 'numpy.float64'>'\n",
       "\twith 74859 stored elements in Compressed Sparse Row format>"
      ]
     },
     "execution_count": 339,
     "metadata": {},
     "output_type": "execute_result"
    }
   ],
   "source": [
    "tfv = TfidfVectorizer(min_df=3,  max_features=None,strip_accents='unicode', \\\n",
    "                      analyzer='word',token_pattern=r'\\w{1,}',\\\n",
    "                      ngram_range=(1, 3), use_idf=1,smooth_idf=1,sublinear_tf=1,\\\n",
    "                      stop_words = 'english')\n",
    "\n",
    "\n",
    "# # Fitting TF-IDF to both training and test sets (semi-supervised learning)\n",
    "tfv.fit(list(X_train) + list(X_test))\n",
    "xtrain_tfv =  tfv.transform(X_train) \n",
    "xtest_tfv = tfv.transform(X_test)\n",
    "xtrain_tfv"
   ]
  },
  {
   "cell_type": "code",
   "execution_count": 340,
   "metadata": {},
   "outputs": [],
   "source": [
    "from sklearn.linear_model import PassiveAggressiveClassifier\n",
    "\n",
    "linear_clf_tfv = PassiveAggressiveClassifier(max_iter=50)\n",
    "linear_clf_tfv = OneVsRestClassifier(linear_clf_tfv)"
   ]
  },
  {
   "cell_type": "code",
   "execution_count": 341,
   "metadata": {},
   "outputs": [
    {
     "name": "stdout",
     "output_type": "stream",
     "text": [
      "1400 1400\n"
     ]
    }
   ],
   "source": [
    "print(xtrain_tfv.shape[0],Y_train_bintfd.shape[0])"
   ]
  },
  {
   "cell_type": "code",
   "execution_count": 342,
   "metadata": {},
   "outputs": [
    {
     "name": "stdout",
     "output_type": "stream",
     "text": [
      "accuracy:   0.247\n"
     ]
    }
   ],
   "source": [
    "linear_clf_tfv.fit(xtrain_tfv, Y_train_bintfd)\n",
    "linear_clf_pred = linear_clf_tfv.predict(xtest_tfv)\n",
    "score = metrics.accuracy_score(Y_test_bintfd, linear_clf_pred)\n",
    "print(\"accuracy:   %0.3f\" % score)"
   ]
  },
  {
   "cell_type": "code",
   "execution_count": 343,
   "metadata": {},
   "outputs": [
    {
     "name": "stdout",
     "output_type": "stream",
     "text": [
      "Test Accuracy:0.24666666666666667\n",
      "F1 score: Micro 0.5925206410879067\n",
      "Average precision score: Micro 0.37953522085795244\n",
      "Average recall score: Micro 0.5083333333333333\n"
     ]
    }
   ],
   "source": [
    "print(\"Test Accuracy:\" + str(accuracy_score(Y_test_bintfd,linear_clf_pred)))\n",
    "print('F1 score: Micro', f1_score(Y_test_bintfd, linear_clf_pred,average='micro'))\n",
    "print('Average precision score: Micro', average_precision_score(Y_test_bintfd, linear_clf_pred, average='micro'))\n",
    "print('Average recall score: Micro', recall_score(Y_test_bintfd, linear_clf_pred,average='micro'))"
   ]
  },
  {
   "cell_type": "code",
   "execution_count": 344,
   "metadata": {},
   "outputs": [],
   "source": [
    "lr_clf_tfv = LogisticRegression(solver = 'sag',max_iter = 1000,multi_class='auto') \n",
    "lr_clf_tfv = OneVsRestClassifier(lr_clf_tfv)\n",
    "lr_clf_tfv.fit(xtrain_tfv,Y_train_bin)\n",
    "lr_clf_tfv_pred=lr_clf_tfv.predict(xtest_tfv)"
   ]
  },
  {
   "cell_type": "code",
   "execution_count": 345,
   "metadata": {},
   "outputs": [
    {
     "name": "stdout",
     "output_type": "stream",
     "text": [
      "Test Accuracy:0.03333333333333333\n",
      "F1 score: Micro 0.49533223503569473\n",
      "Average precision score: Micro 0.2965016609445103\n",
      "Average recall score: Micro 0.37583333333333335\n"
     ]
    }
   ],
   "source": [
    "print(\"Test Accuracy:\" + str(accuracy_score(Y_test_bintfd,lr_clf_tfv_pred)))\n",
    "print('F1 score: Micro', f1_score(Y_test_bintfd, lr_clf_tfv_pred,average='micro'))\n",
    "print('Average precision score: Micro', average_precision_score(Y_test_bintfd, lr_clf_tfv_pred, average='micro'))\n",
    "print('Average recall score: Micro', recall_score(Y_test_bintfd, lr_clf_tfv_pred,average='micro'))"
   ]
  },
  {
   "cell_type": "code",
   "execution_count": 346,
   "metadata": {},
   "outputs": [
    {
     "name": "stdout",
     "output_type": "stream",
     "text": [
      "[('male',), ('male',), ('male',), ('male',), ('male',)]\n"
     ]
    }
   ],
   "source": [
    "print(binarizer.inverse_transform(lr_clf_tfv_pred)[0:5])"
   ]
  },
  {
   "cell_type": "code",
   "execution_count": 347,
   "metadata": {},
   "outputs": [
    {
     "name": "stdout",
     "output_type": "stream",
     "text": [
      "[('female', '16'), ('female', '27'), ('male', '15'), ('male', '35'), ('male', '35')]\n"
     ]
    }
   ],
   "source": [
    "print(binarizer.inverse_transform(Y_test_bintfd)[:5])"
   ]
  },
  {
   "cell_type": "code",
   "execution_count": 348,
   "metadata": {},
   "outputs": [],
   "source": [
    "\n",
    "\n",
    "mnb_clf = MultinomialNB()\n",
    "mnb_clf = OneVsRestClassifier(mnb_clf)\n",
    "mnb_clf.fit(xtrain_tfv, Y_train_bin)\n",
    "mnb_ypred = mnb_clf.predict(xtest_tfv)\n"
   ]
  },
  {
   "cell_type": "code",
   "execution_count": 349,
   "metadata": {},
   "outputs": [
    {
     "name": "stdout",
     "output_type": "stream",
     "text": [
      "Test Accuracy:0.008333333333333333\n",
      "F1 score: Micro 0.4620498614958448\n",
      "Average precision score: Micro 0.26413917043505375\n",
      "Average recall score: Micro 0.3475\n"
     ]
    }
   ],
   "source": [
    "print(\"Test Accuracy:\" + str(accuracy_score(Y_test_bin,mnb_ypred)))\n",
    "print('F1 score: Micro', f1_score(Y_test_bin, mnb_ypred,average='micro'))\n",
    "print('Average precision score: Micro', average_precision_score(Y_test_bin, mnb_ypred, average='micro'))\n",
    "print('Average recall score: Micro', recall_score(Y_test_bin, mnb_ypred,average='micro'))"
   ]
  },
  {
   "cell_type": "code",
   "execution_count": 350,
   "metadata": {},
   "outputs": [],
   "source": [
    "\n",
    "svc_clf = LinearSVC()\n",
    "svc_clf = OneVsRestClassifier(svc_clf)\n",
    "svc_clf.fit(xtrain_tfv, Y_train_bin)\n",
    "svc_pred = svc_clf.predict(xtest_tfv)"
   ]
  },
  {
   "cell_type": "code",
   "execution_count": 351,
   "metadata": {},
   "outputs": [
    {
     "name": "stdout",
     "output_type": "stream",
     "text": [
      "Test Accuracy:0.19166666666666668\n",
      "F1 score: Micro 0.5748071979434447\n",
      "Average precision score: Micro 0.36968855261491707\n",
      "Average recall score: Micro 0.4658333333333333\n"
     ]
    }
   ],
   "source": [
    "print(\"Test Accuracy:\" + str(accuracy_score(Y_test_bintfd,svc_pred)))\n",
    "print('F1 score: Micro', f1_score(Y_test_bintfd, svc_pred,average='micro'))\n",
    "print('Average precision score: Micro', average_precision_score(Y_test_bin, svc_pred, average='micro'))\n",
    "print('Average recall score: Micro', recall_score(Y_test_bin, svc_pred,average='micro'))"
   ]
  },
  {
   "cell_type": "code",
   "execution_count": 352,
   "metadata": {},
   "outputs": [],
   "source": [
    "svc_clf_ctv = LinearSVC()\n",
    "svc_clf_ctv = OneVsRestClassifier(svc_clf_ctv)\n",
    "svc_clf_ctv.fit(xtrain_ctv, Y_train_bin)\n",
    "svc_pred_ctv = svc_clf_ctv.predict(xtest_ctv)\n"
   ]
  },
  {
   "cell_type": "code",
   "execution_count": 353,
   "metadata": {},
   "outputs": [
    {
     "name": "stdout",
     "output_type": "stream",
     "text": [
      "Test Accuracy:0.16166666666666665\n",
      "F1 score: Micro 0.49713193116634796\n",
      "Average precision score: Micro 0.2739994923428378\n",
      "Average recall score: Micro 0.43333333333333335\n"
     ]
    }
   ],
   "source": [
    "print(\"Test Accuracy:\" + str(accuracy_score(Y_test_bintfd,svc_pred_ctv)))\n",
    "print('F1 score: Micro', f1_score(Y_test_bintfd, svc_pred_ctv,average='micro'))\n",
    "print('Average precision score: Micro', average_precision_score(Y_test_bin, svc_pred_ctv, average='micro'))\n",
    "print('Average recall score: Micro', recall_score(Y_test_bin, svc_pred_ctv,average='micro'))"
   ]
  },
  {
   "cell_type": "code",
   "execution_count": null,
   "metadata": {},
   "outputs": [],
   "source": []
  },
  {
   "cell_type": "code",
   "execution_count": null,
   "metadata": {},
   "outputs": [],
   "source": []
  },
  {
   "cell_type": "code",
   "execution_count": null,
   "metadata": {},
   "outputs": [],
   "source": []
  },
  {
   "cell_type": "markdown",
   "metadata": {},
   "source": [
    "Implemented different multilabel classifiers: \n",
    "   \n",
    "    Trained and tested Logistic regression,SVC, random forest classifier, GaussianNB with Binaryrelevance, GaussianNB with labelpowerset along with features transformed using countvectorizer.\n",
    "    And PassiveAggressiveClassifier and Logiscticregression are implemented with tfid vectorizer.\n",
    "    SVC and PassiveAggressiveClassifier along with tfidvectorizer shows better test accuracy than other classifiers.\n",
    "    Testing accuracy of Logistic regression is less than to that of SVC with tfidvectorizer also.\n",
    "    TFidvectorizer provides better results as it also provides importance of the words.\n",
    "    \n",
    "    With Logistic regression, MultinomialNB, SVC and PassiveAggressiveClassifier tfidvectorizer is used.\n",
    "    \n",
    "    Also hyperparameter tuning is done on Logistic regression, SVC and multinomialNB.\n",
    "    From classification report we can see that precision,recall,f1-score is higher for the labels which contains larger counts(support values)."
   ]
  },
  {
   "cell_type": "code",
   "execution_count": 354,
   "metadata": {},
   "outputs": [
    {
     "name": "stdout",
     "output_type": "stream",
     "text": [
      "dict_keys(['estimator__alpha', 'estimator__class_prior', 'estimator__fit_prior', 'estimator', 'n_jobs'])\n",
      "OneVsRestClassifier(estimator=MultinomialNB(alpha=0.1))\n",
      "Best Cross Validation Score:  0.5518887903672314\n",
      "\n",
      " Accuracy : 0.17333333333333334\n",
      "\n",
      " Micro-average\n",
      "Precision: 0.7605, Recall: 0.4658, F1: 0.5778\n",
      "{'estimator__alpha': 0.1}\n"
     ]
    }
   ],
   "source": [
    "\n",
    "params = {'estimator__alpha': [1, 0.1, 0.01, 0.001],}  # creating parameter grid\n",
    " \n",
    "# Optimal C by grid search \n",
    "NB_clf = OneVsRestClassifier(estimator=MultinomialNB())\n",
    "print(NB_clf.get_params().keys())\n",
    "Multinomial_NB = GridSearchCV(NB_clf, params, scoring = 'f1_micro', cv=5)\n",
    " \n",
    "#fit and print best estimator  & CV Score\n",
    "Multinomial_NB.fit(xtrain_tfv, Y_train_bin)\n",
    "print(Multinomial_NB.best_estimator_)\n",
    "print(\"Best Cross Validation Score: \",Multinomial_NB.best_score_)\n",
    " \n",
    "#fit tuned clf on test set and gather accuracy and hamming loss\n",
    "mn_predictions = Multinomial_NB.predict(xtest_tfv)\n",
    "print(\"\\n Accuracy :\",metrics.accuracy_score(Y_test_bin, mn_predictions))\n",
    "\n",
    " \n",
    "#micro- precision, recall, f1\n",
    "precision=precision_score(Y_test_bin, mn_predictions, average='micro')\n",
    "recall=recall_score(Y_test_bin, mn_predictions, average='micro')\n",
    "f1=f1_score(Y_test_bin, mn_predictions, average='micro')\n",
    " \n",
    "#print precision, recall, f1 scores \n",
    "print(\"\\n Micro-average\")\n",
    "print(\"Precision: {:.4f}, Recall: {:.4f}, F1: {:.4f}\".format(precision, recall, f1))\n",
    "print(Multinomial_NB.best_params_)"
   ]
  },
  {
   "cell_type": "code",
   "execution_count": 355,
   "metadata": {},
   "outputs": [
    {
     "name": "stdout",
     "output_type": "stream",
     "text": [
      "              precision    recall  f1-score   support\n",
      "\n",
      "           0       0.73      0.63      0.68       253\n",
      "           1       1.00      0.04      0.07        27\n",
      "           2       0.00      0.00      0.00         0\n",
      "           3       0.00      0.00      0.00         3\n",
      "           4       0.00      0.00      0.00         0\n",
      "           5       0.76      0.83      0.79       347\n",
      "           6       0.00      0.00      0.00         8\n",
      "           7       0.00      0.00      0.00         0\n",
      "           8       0.00      0.00      0.00         0\n",
      "           9       0.00      0.00      0.00        10\n",
      "          10       0.00      0.00      0.00         0\n",
      "          11       0.92      0.37      0.53        97\n",
      "          12       0.00      0.00      0.00         0\n",
      "          13       0.50      0.05      0.09        40\n",
      "          14       0.92      0.17      0.29        65\n",
      "          15       0.00      0.00      0.00         0\n",
      "          16       1.00      0.06      0.12        47\n",
      "          17       0.60      0.10      0.17        30\n",
      "          18       0.74      0.30      0.43       141\n",
      "          19       0.00      0.00      0.00        13\n",
      "          20       0.00      0.00      0.00         1\n",
      "          21       0.00      0.00      0.00         0\n",
      "          22       0.85      0.17      0.28        65\n",
      "          23       0.00      0.00      0.00         5\n",
      "          24       0.00      0.00      0.00         0\n",
      "          25       0.00      0.00      0.00        12\n",
      "          26       0.00      0.00      0.00        26\n",
      "          27       0.00      0.00      0.00         0\n",
      "          28       0.00      0.00      0.00         0\n",
      "          29       0.00      0.00      0.00         0\n",
      "          30       0.00      0.00      0.00         0\n",
      "          31       0.00      0.00      0.00         0\n",
      "          32       0.00      0.00      0.00         0\n",
      "          33       0.00      0.00      0.00         0\n",
      "          34       0.00      0.00      0.00         1\n",
      "          35       0.00      0.00      0.00         0\n",
      "          36       0.00      0.00      0.00         0\n",
      "          37       0.00      0.00      0.00         2\n",
      "          38       0.00      0.00      0.00         0\n",
      "          39       0.00      0.00      0.00         1\n",
      "          40       0.00      0.00      0.00         0\n",
      "          41       0.00      0.00      0.00         0\n",
      "          42       0.00      0.00      0.00         0\n",
      "          43       0.00      0.00      0.00         0\n",
      "          44       0.00      0.00      0.00         4\n",
      "          45       0.00      0.00      0.00         0\n",
      "          46       0.00      0.00      0.00         0\n",
      "          47       0.00      0.00      0.00         0\n",
      "          48       0.00      0.00      0.00         2\n",
      "          49       0.00      0.00      0.00         0\n",
      "          50       0.00      0.00      0.00         0\n",
      "          51       0.00      0.00      0.00         0\n",
      "          52       0.00      0.00      0.00         0\n",
      "\n",
      "   micro avg       0.76      0.47      0.58      1200\n",
      "   macro avg       0.15      0.05      0.07      1200\n",
      "weighted avg       0.72      0.47      0.51      1200\n",
      " samples avg       0.74      0.47      0.56      1200\n",
      "\n"
     ]
    }
   ],
   "source": [
    "print(classification_report(Y_test_bin, mn_predictions))"
   ]
  },
  {
   "cell_type": "code",
   "execution_count": 356,
   "metadata": {},
   "outputs": [
    {
     "name": "stdout",
     "output_type": "stream",
     "text": [
      "Best: 0.272143 using {'estimator__C': 10, 'estimator__gamma': 'scale', 'estimator__kernel': 'sigmoid'}\n",
      "0.008571 (0.005345) with: {'estimator__C': 50, 'estimator__gamma': 'scale', 'estimator__kernel': 'poly'}\n",
      "0.079286 (0.032608) with: {'estimator__C': 50, 'estimator__gamma': 'scale', 'estimator__kernel': 'rbf'}\n",
      "0.232143 (0.012778) with: {'estimator__C': 50, 'estimator__gamma': 'scale', 'estimator__kernel': 'sigmoid'}\n",
      "0.009286 (0.005345) with: {'estimator__C': 10, 'estimator__gamma': 'scale', 'estimator__kernel': 'poly'}\n",
      "0.079286 (0.032608) with: {'estimator__C': 10, 'estimator__gamma': 'scale', 'estimator__kernel': 'rbf'}\n",
      "0.272143 (0.037958) with: {'estimator__C': 10, 'estimator__gamma': 'scale', 'estimator__kernel': 'sigmoid'}\n",
      "0.006429 (0.005249) with: {'estimator__C': 1.0, 'estimator__gamma': 'scale', 'estimator__kernel': 'poly'}\n",
      "0.021429 (0.009035) with: {'estimator__C': 1.0, 'estimator__gamma': 'scale', 'estimator__kernel': 'rbf'}\n",
      "0.158571 (0.038306) with: {'estimator__C': 1.0, 'estimator__gamma': 'scale', 'estimator__kernel': 'sigmoid'}\n",
      "0.000000 (0.000000) with: {'estimator__C': 0.1, 'estimator__gamma': 'scale', 'estimator__kernel': 'poly'}\n",
      "0.000000 (0.000000) with: {'estimator__C': 0.1, 'estimator__gamma': 'scale', 'estimator__kernel': 'rbf'}\n",
      "0.000000 (0.000000) with: {'estimator__C': 0.1, 'estimator__gamma': 'scale', 'estimator__kernel': 'sigmoid'}\n",
      "0.000000 (0.000000) with: {'estimator__C': 0.01, 'estimator__gamma': 'scale', 'estimator__kernel': 'poly'}\n",
      "0.000000 (0.000000) with: {'estimator__C': 0.01, 'estimator__gamma': 'scale', 'estimator__kernel': 'rbf'}\n",
      "0.000000 (0.000000) with: {'estimator__C': 0.01, 'estimator__gamma': 'scale', 'estimator__kernel': 'sigmoid'}\n"
     ]
    }
   ],
   "source": [
    "from sklearn.svm import SVC\n",
    "\n",
    "svc_model = SVC()\n",
    "svc_model = OneVsRestClassifier(svc_model)\n",
    "kernel = ['poly', 'rbf', 'sigmoid']\n",
    "C = [50, 10, 1.0, 0.1, 0.01]\n",
    "gamma = ['scale']\n",
    "# define grid search\n",
    "grid = dict(estimator__kernel=kernel,estimator__C=C,estimator__gamma=gamma)\n",
    "cv = KFold(n_splits=5,shuffle=True, random_state=1)\n",
    "#print(svc_model.get_params().keys())\n",
    "grid_search = GridSearchCV(estimator=svc_model, param_grid=grid, n_jobs=-1, cv=cv, scoring='accuracy',error_score=0)\n",
    "grid_result = grid_search.fit(xtrain_tfv, Y_train_bin)\n",
    "# summarize results\n",
    "print(\"Best: %f using %s\" % (grid_result.best_score_, grid_result.best_params_))\n",
    "means = grid_result.cv_results_['mean_test_score']\n",
    "stds = grid_result.cv_results_['std_test_score']\n",
    "params = grid_result.cv_results_['params']\n",
    "for mean, stdev, param in zip(means, stds, params):\n",
    "    print(\"%f (%f) with: %r\" % (mean, stdev, param))\n",
    "predicted_g = grid_search.predict(xtest_tfv)"
   ]
  },
  {
   "cell_type": "code",
   "execution_count": 357,
   "metadata": {},
   "outputs": [
    {
     "name": "stdout",
     "output_type": "stream",
     "text": [
      "Test Accuracy:0.27666666666666667\n",
      "F1 score: Micro 0.5942228335625861\n",
      "Average precision score: Micro 0.3740557382724598\n",
      "Average recall score: Micro 0.54\n"
     ]
    }
   ],
   "source": [
    "print(\"Test Accuracy:\" + str(accuracy_score(Y_test_bintfd,predicted_g)))\n",
    "print('F1 score: Micro', f1_score(Y_test_bintfd, predicted_g,average='micro'))\n",
    "print('Average precision score: Micro', average_precision_score(Y_test_bin, predicted_g, average='micro'))\n",
    "print('Average recall score: Micro', recall_score(Y_test_bin, predicted_g,average='micro'))"
   ]
  },
  {
   "cell_type": "code",
   "execution_count": 358,
   "metadata": {},
   "outputs": [
    {
     "name": "stdout",
     "output_type": "stream",
     "text": [
      "              precision    recall  f1-score   support\n",
      "\n",
      "           0       0.70      0.61      0.65       253\n",
      "           1       1.00      0.48      0.65        27\n",
      "           2       0.00      0.00      0.00         0\n",
      "           3       1.00      0.33      0.50         3\n",
      "           4       0.00      0.00      0.00         0\n",
      "           5       0.74      0.81      0.77       347\n",
      "           6       0.00      0.00      0.00         8\n",
      "           7       0.00      0.00      0.00         0\n",
      "           8       0.00      0.00      0.00         0\n",
      "           9       0.00      0.00      0.00        10\n",
      "          10       0.00      0.00      0.00         0\n",
      "          11       0.59      0.45      0.51        97\n",
      "          12       0.00      0.00      0.00         0\n",
      "          13       0.38      0.12      0.19        40\n",
      "          14       0.59      0.35      0.44        65\n",
      "          15       0.00      0.00      0.00         0\n",
      "          16       0.40      0.21      0.28        47\n",
      "          17       0.77      0.33      0.47        30\n",
      "          18       0.53      0.50      0.51       141\n",
      "          19       0.20      0.08      0.11        13\n",
      "          20       0.00      0.00      0.00         1\n",
      "          21       0.00      0.00      0.00         0\n",
      "          22       0.58      0.49      0.53        65\n",
      "          23       0.00      0.00      0.00         5\n",
      "          24       0.00      0.00      0.00         0\n",
      "          25       0.25      0.08      0.12        12\n",
      "          26       0.33      0.08      0.12        26\n",
      "          27       0.00      0.00      0.00         0\n",
      "          28       0.00      0.00      0.00         0\n",
      "          29       0.00      0.00      0.00         0\n",
      "          30       0.00      0.00      0.00         0\n",
      "          31       0.00      0.00      0.00         0\n",
      "          32       0.00      0.00      0.00         0\n",
      "          33       0.00      0.00      0.00         0\n",
      "          34       0.00      0.00      0.00         1\n",
      "          35       0.00      0.00      0.00         0\n",
      "          36       0.00      0.00      0.00         0\n",
      "          37       0.00      0.00      0.00         2\n",
      "          38       0.00      0.00      0.00         0\n",
      "          39       0.00      0.00      0.00         1\n",
      "          40       0.00      0.00      0.00         0\n",
      "          41       0.00      0.00      0.00         0\n",
      "          42       0.00      0.00      0.00         0\n",
      "          43       0.00      0.00      0.00         0\n",
      "          44       0.00      0.00      0.00         4\n",
      "          45       0.00      0.00      0.00         0\n",
      "          46       0.00      0.00      0.00         0\n",
      "          47       0.00      0.00      0.00         0\n",
      "          48       0.00      0.00      0.00         2\n",
      "          49       0.00      0.00      0.00         0\n",
      "          50       0.00      0.00      0.00         0\n",
      "          51       0.00      0.00      0.00         0\n",
      "          52       0.00      0.00      0.00         0\n",
      "\n",
      "   micro avg       0.66      0.54      0.59      1200\n",
      "   macro avg       0.15      0.09      0.11      1200\n",
      "weighted avg       0.62      0.54      0.57      1200\n",
      " samples avg       0.67      0.54      0.58      1200\n",
      "\n"
     ]
    }
   ],
   "source": [
    "print(classification_report(Y_test_bin, predicted_g))"
   ]
  },
  {
   "cell_type": "code",
   "execution_count": null,
   "metadata": {},
   "outputs": [],
   "source": []
  }
 ],
 "metadata": {
  "kernelspec": {
   "display_name": "Python 3 (ipykernel)",
   "language": "python",
   "name": "python3"
  },
  "language_info": {
   "codemirror_mode": {
    "name": "ipython",
    "version": 3
   },
   "file_extension": ".py",
   "mimetype": "text/x-python",
   "name": "python",
   "nbconvert_exporter": "python",
   "pygments_lexer": "ipython3",
   "version": "3.7.11"
  }
 },
 "nbformat": 4,
 "nbformat_minor": 4
}
